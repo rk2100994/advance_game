{
 "cells": [
  {
   "cell_type": "markdown",
   "metadata": {},
   "source": [
    "In this game, you are given an array of non-negative integers. <br>\n",
    "For example:[3,3,1,0,2,0,1]. <br>\n",
    "Each number represents the maximum you can advance in the array. <br>\n",
    "<br>\n",
    "Question: <br>\n",
    "Is it possible to advance from the start of the array to the last element?"
   ]
  },
  {
   "cell_type": "code",
   "execution_count": 6,
   "metadata": {},
   "outputs": [
    {
     "name": "stdout",
     "output_type": "stream",
     "text": [
      "True\n",
      "False\n"
     ]
    }
   ],
   "source": [
    "def advance_game(arr):\n",
    "    furthest_reached = 0\n",
    "    last_idx = len(arr)-1\n",
    "    idx = 0\n",
    "    while(idx <= furthest_reached and furthest_reached<last_idx):\n",
    "        furthest_reached = max(furthest_reached,arr[idx]+idx)\n",
    "        idx +=1\n",
    "    return (furthest_reached>=last_idx)\n",
    "print(advance_game([3,3,1,0,2,0,1]))\n",
    "print(advance_game([3,2,0,0,2,0,1]))"
   ]
  }
 ],
 "metadata": {
  "kernelspec": {
   "display_name": "Python 3",
   "language": "python",
   "name": "python3"
  },
  "language_info": {
   "codemirror_mode": {
    "name": "ipython",
    "version": 3
   },
   "file_extension": ".py",
   "mimetype": "text/x-python",
   "name": "python",
   "nbconvert_exporter": "python",
   "pygments_lexer": "ipython3",
   "version": "3.7.4"
  }
 },
 "nbformat": 4,
 "nbformat_minor": 2
}
